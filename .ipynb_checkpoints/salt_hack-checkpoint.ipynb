{
 "cells": [
  {
   "cell_type": "code",
   "execution_count": 1,
   "metadata": {
    "id": "-e_n4wXD2VQH"
   },
   "outputs": [],
   "source": [
    "import numpy as np\n",
    "import json\n",
    "import itertools\n",
    "import string\n",
    "import hashlib\n",
    "import time\n",
    "\n",
    "hash_len = 20"
   ]
  },
  {
   "cell_type": "markdown",
   "metadata": {
    "id": "jgQVTHs23jGg"
   },
   "source": [
    "Взламываем таблицу без соли"
   ]
  },
  {
   "cell_type": "code",
   "execution_count": 2,
   "metadata": {
    "id": "npJmqygN3mMu"
   },
   "outputs": [],
   "source": [
    "with open('database.json') as json_file:\n",
    "  data = json.load(json_file)"
   ]
  },
  {
   "cell_type": "code",
   "execution_count": 3,
   "metadata": {
    "id": "G7GzDK593zEb"
   },
   "outputs": [],
   "source": [
    "with open('rainbow_table.json') as json_file:\n",
    "  table = json.load(json_file)"
   ]
  },
  {
   "cell_type": "code",
   "execution_count": 4,
   "metadata": {
    "id": "3-SnWmm_8Kch"
   },
   "outputs": [],
   "source": [
    "def brute_force(brute_force_passwords, hash_len):\n",
    "  passwords_got = ['', '', '']\n",
    "  alphabet_string = string.ascii_lowercase\n",
    "  alphabet_list = list(alphabet_string)\n",
    "  #print(alphabet_list)\n",
    "  for j in range(7):\n",
    "    #print(j, ' is done')\n",
    "    for i in itertools.product(alphabet_list, repeat=j):\n",
    "      symbols = list(i)\n",
    "      passw = ''.join(symbols)\n",
    "      #if passw == 'abcdfe':\n",
    "        #print('g')\n",
    "      hs = hashlib.sha256(passw.encode()).hexdigest()[:hash_len]\n",
    "      if hs in brute_force_passwords:\n",
    "        numb = brute_force_passwords.index(hs)\n",
    "        passwords_got[numb] = passw\n",
    "  return passwords_got"
   ]
  },
  {
   "cell_type": "code",
   "execution_count": 5,
   "metadata": {
    "id": "2FVfoLKY4iEx"
   },
   "outputs": [],
   "source": [
    "def hack_database(db, table, hash_len):\n",
    "  start_time = time.time()\n",
    "  users = list(db.keys())\n",
    "  users_hacked = [0, 0, 0, 0, 0, 0, 0, 0, 0, 0]\n",
    "  for i, el in enumerate(users):\n",
    "    if db[el]['password_hashed'] in table.keys():\n",
    "      print('User ', db[el]['name'], ' is hacked')\n",
    "      print('Password of user ', db[el]['name'], ' is ', table[db[el]['password_hashed']])\n",
    "      users_hacked[i] = 1\n",
    "  to_brute_force = []\n",
    "  brute_force_passwords = []\n",
    "  for i, el in enumerate(users_hacked):\n",
    "    if el == 0:\n",
    "      to_brute_force.append(users[i])\n",
    "      brute_force_passwords.append(db[users[i]]['password_hashed'])\n",
    "  #print(brute_force_passwords)   \n",
    "  actual_passwords = brute_force(brute_force_passwords, hash_len)\n",
    "  for i, el in enumerate(actual_passwords):\n",
    "    if el == '':\n",
    "      print('We couldn\\'t hack ', db[to_brute_force[i]]['name'])\n",
    "    else:\n",
    "      print('User ', db[to_brute_force[i]]['name'], ' is hacked')\n",
    "      print('Password of user ', db[to_brute_force[i]]['name'], ' is ', el)\n",
    "  end_time = time.time()\n",
    "  print('Hacking took ', end_time-start_time, ' seconds')"
   ]
  },
  {
   "cell_type": "code",
   "execution_count": 6,
   "metadata": {
    "colab": {
     "base_uri": "https://localhost:8080/",
     "height": 599
    },
    "id": "-ygyGV0n4zwv",
    "outputId": "4406c684-a10d-49da-9ae9-dfdcd43232f3"
   },
   "outputs": [
    {
     "name": "stdout",
     "output_type": "stream",
     "text": [
      "User  Alice  is hacked\n",
      "Password of user  Alice  is  123456789\n",
      "User  Bob  is hacked\n",
      "Password of user  Bob  is  iloveyou\n",
      "User  Carol  is hacked\n",
      "Password of user  Carol  is  123123\n",
      "User  Chuck  is hacked\n",
      "Password of user  Chuck  is  password1\n",
      "User  Craig  is hacked\n",
      "Password of user  Craig  is  passw0rd\n",
      "User  Dave  is hacked\n",
      "Password of user  Dave  is  george\n",
      "User  Eve  is hacked\n",
      "Password of user  Eve  is  solo\n"
     ]
    },
    {
     "ename": "KeyboardInterrupt",
     "evalue": "",
     "output_type": "error",
     "traceback": [
      "\u001b[1;31m---------------------------------------------------------------------------\u001b[0m",
      "\u001b[1;31mKeyboardInterrupt\u001b[0m                         Traceback (most recent call last)",
      "\u001b[1;32m<ipython-input-6-98aa6d57e746>\u001b[0m in \u001b[0;36m<module>\u001b[1;34m\u001b[0m\n\u001b[1;32m----> 1\u001b[1;33m \u001b[0mhack_database\u001b[0m\u001b[1;33m(\u001b[0m\u001b[0mdata\u001b[0m\u001b[1;33m,\u001b[0m \u001b[0mtable\u001b[0m\u001b[1;33m,\u001b[0m \u001b[0mhash_len\u001b[0m\u001b[1;33m)\u001b[0m\u001b[1;33m\u001b[0m\u001b[1;33m\u001b[0m\u001b[0m\n\u001b[0m",
      "\u001b[1;32m<ipython-input-5-a5fb9fd31622>\u001b[0m in \u001b[0;36mhack_database\u001b[1;34m(db, table, hash_len)\u001b[0m\n\u001b[0;32m     15\u001b[0m       \u001b[0mbrute_force_passwords\u001b[0m\u001b[1;33m.\u001b[0m\u001b[0mappend\u001b[0m\u001b[1;33m(\u001b[0m\u001b[0mdb\u001b[0m\u001b[1;33m[\u001b[0m\u001b[0musers\u001b[0m\u001b[1;33m[\u001b[0m\u001b[0mi\u001b[0m\u001b[1;33m]\u001b[0m\u001b[1;33m]\u001b[0m\u001b[1;33m[\u001b[0m\u001b[1;34m'password_hashed'\u001b[0m\u001b[1;33m]\u001b[0m\u001b[1;33m)\u001b[0m\u001b[1;33m\u001b[0m\u001b[1;33m\u001b[0m\u001b[0m\n\u001b[0;32m     16\u001b[0m   \u001b[1;31m#print(brute_force_passwords)\u001b[0m\u001b[1;33m\u001b[0m\u001b[1;33m\u001b[0m\u001b[1;33m\u001b[0m\u001b[0m\n\u001b[1;32m---> 17\u001b[1;33m   \u001b[0mactual_passwords\u001b[0m \u001b[1;33m=\u001b[0m \u001b[0mbrute_force\u001b[0m\u001b[1;33m(\u001b[0m\u001b[0mbrute_force_passwords\u001b[0m\u001b[1;33m,\u001b[0m \u001b[0mhash_len\u001b[0m\u001b[1;33m)\u001b[0m\u001b[1;33m\u001b[0m\u001b[1;33m\u001b[0m\u001b[0m\n\u001b[0m\u001b[0;32m     18\u001b[0m   \u001b[1;32mfor\u001b[0m \u001b[0mi\u001b[0m\u001b[1;33m,\u001b[0m \u001b[0mel\u001b[0m \u001b[1;32min\u001b[0m \u001b[0menumerate\u001b[0m\u001b[1;33m(\u001b[0m\u001b[0mactual_passwords\u001b[0m\u001b[1;33m)\u001b[0m\u001b[1;33m:\u001b[0m\u001b[1;33m\u001b[0m\u001b[1;33m\u001b[0m\u001b[0m\n\u001b[0;32m     19\u001b[0m     \u001b[1;32mif\u001b[0m \u001b[0mel\u001b[0m \u001b[1;33m==\u001b[0m \u001b[1;34m''\u001b[0m\u001b[1;33m:\u001b[0m\u001b[1;33m\u001b[0m\u001b[1;33m\u001b[0m\u001b[0m\n",
      "\u001b[1;32m<ipython-input-4-f117006e0675>\u001b[0m in \u001b[0;36mbrute_force\u001b[1;34m(brute_force_passwords, hash_len)\u001b[0m\n\u001b[0;32m     11\u001b[0m       \u001b[1;31m#if passw == 'abcdfe':\u001b[0m\u001b[1;33m\u001b[0m\u001b[1;33m\u001b[0m\u001b[1;33m\u001b[0m\u001b[0m\n\u001b[0;32m     12\u001b[0m         \u001b[1;31m#print('g')\u001b[0m\u001b[1;33m\u001b[0m\u001b[1;33m\u001b[0m\u001b[1;33m\u001b[0m\u001b[0m\n\u001b[1;32m---> 13\u001b[1;33m       \u001b[0mhs\u001b[0m \u001b[1;33m=\u001b[0m \u001b[0mhashlib\u001b[0m\u001b[1;33m.\u001b[0m\u001b[0msha256\u001b[0m\u001b[1;33m(\u001b[0m\u001b[0mpassw\u001b[0m\u001b[1;33m.\u001b[0m\u001b[0mencode\u001b[0m\u001b[1;33m(\u001b[0m\u001b[1;33m)\u001b[0m\u001b[1;33m)\u001b[0m\u001b[1;33m.\u001b[0m\u001b[0mhexdigest\u001b[0m\u001b[1;33m(\u001b[0m\u001b[1;33m)\u001b[0m\u001b[1;33m[\u001b[0m\u001b[1;33m:\u001b[0m\u001b[0mhash_len\u001b[0m\u001b[1;33m]\u001b[0m\u001b[1;33m\u001b[0m\u001b[1;33m\u001b[0m\u001b[0m\n\u001b[0m\u001b[0;32m     14\u001b[0m       \u001b[1;32mif\u001b[0m \u001b[0mhs\u001b[0m \u001b[1;32min\u001b[0m \u001b[0mbrute_force_passwords\u001b[0m\u001b[1;33m:\u001b[0m\u001b[1;33m\u001b[0m\u001b[1;33m\u001b[0m\u001b[0m\n\u001b[0;32m     15\u001b[0m         \u001b[0mnumb\u001b[0m \u001b[1;33m=\u001b[0m \u001b[0mbrute_force_passwords\u001b[0m\u001b[1;33m.\u001b[0m\u001b[0mindex\u001b[0m\u001b[1;33m(\u001b[0m\u001b[0mhs\u001b[0m\u001b[1;33m)\u001b[0m\u001b[1;33m\u001b[0m\u001b[1;33m\u001b[0m\u001b[0m\n",
      "\u001b[1;31mKeyboardInterrupt\u001b[0m: "
     ]
    }
   ],
   "source": [
    "hack_database(data, table, hash_len)"
   ]
  },
  {
   "cell_type": "code",
   "execution_count": null,
   "metadata": {
    "id": "wUm-4leGA9GK"
   },
   "outputs": [],
   "source": []
  }
 ],
 "metadata": {
  "colab": {
   "collapsed_sections": [],
   "name": "Демонстрация взлома базы данных.ipynb",
   "provenance": []
  },
  "kernelspec": {
   "display_name": "Python 3",
   "language": "python",
   "name": "python3"
  },
  "language_info": {
   "codemirror_mode": {
    "name": "ipython",
    "version": 3
   },
   "file_extension": ".py",
   "mimetype": "text/x-python",
   "name": "python",
   "nbconvert_exporter": "python",
   "pygments_lexer": "ipython3",
   "version": "3.7.2"
  }
 },
 "nbformat": 4,
 "nbformat_minor": 1
}
