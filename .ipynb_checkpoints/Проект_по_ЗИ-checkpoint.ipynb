{
 "cells": [
  {
   "cell_type": "code",
   "execution_count": 1,
   "metadata": {
    "id": "zWoTkUzXZ7WC"
   },
   "outputs": [],
   "source": [
    "import datetime\n",
    "import random\n",
    "import pandas as pd\n",
    "import requests\n",
    "import hashlib\n",
    "import json"
   ]
  },
  {
   "cell_type": "code",
   "execution_count": 368,
   "metadata": {
    "id": "OGSC2R-flk19"
   },
   "outputs": [],
   "source": [
    "random.seed(42)"
   ]
  },
  {
   "cell_type": "code",
   "execution_count": 369,
   "metadata": {
    "id": "TU9VW04_bEH7"
   },
   "outputs": [],
   "source": [
    "def generate_date():\n",
    "  start_date = datetime.date(2016, 1, 1)\n",
    "  end_date = datetime.date(2020, 12, 17)\n",
    "  time_between_dates = end_date - start_date\n",
    "  days_between_dates = time_between_dates.days\n",
    "  random_number_of_days = random.randrange(days_between_dates)\n",
    "  random_date = start_date + datetime.timedelta(days=random_number_of_days)\n",
    "  return random_date.strftime(\"%m/%d/%Y\")"
   ]
  },
  {
   "cell_type": "code",
   "execution_count": 370,
   "metadata": {
    "id": "TsDo2upqbRnB"
   },
   "outputs": [],
   "source": [
    "list_of_names = ['Alice', 'Bob', 'Carol', 'Chuck', 'Craig', 'Dave', 'Eve', 'Peggy', 'Trent', 'Walter']"
   ]
  },
  {
   "cell_type": "code",
   "execution_count": 371,
   "metadata": {
    "id": "9o1R2srDbnNx"
   },
   "outputs": [],
   "source": [
    "list_of_genders = ['F', 'M', 'F', 'M', 'M', 'M', 'F', 'F', 'M', 'M']"
   ]
  },
  {
   "cell_type": "code",
   "execution_count": 372,
   "metadata": {
    "id": "UtjgoR9JcJxm"
   },
   "outputs": [],
   "source": [
    "list_of_dates = []\n",
    "for i in range(10):\n",
    "  list_of_dates.append(generate_date())"
   ]
  },
  {
   "cell_type": "code",
   "execution_count": 373,
   "metadata": {
    "id": "AojCyn1rdawQ"
   },
   "outputs": [],
   "source": [
    "list_of_ids = []\n",
    "for i in range(10):\n",
    "  list_of_ids.append(random.randint(100000, 999999))"
   ]
  },
  {
   "cell_type": "code",
   "execution_count": 374,
   "metadata": {
    "id": "NayzzkONfkCO"
   },
   "outputs": [],
   "source": [
    "url = \"https://www.ianoffers.com/top-100-passwords-of-2018/\"\n",
    "\n",
    "r = requests.get(url)\n",
    "df_list = pd.read_html(r.text)\n",
    "df = df_list[0]"
   ]
  },
  {
   "cell_type": "code",
   "execution_count": 375,
   "metadata": {
    "id": "LD_tqBXKg15z"
   },
   "outputs": [],
   "source": [
    "list_of_passwords = df[1]"
   ]
  },
  {
   "cell_type": "code",
   "execution_count": 376,
   "metadata": {
    "id": "ht0jyCsYhXN8"
   },
   "outputs": [],
   "source": [
    "passwords = []\n",
    "for i in range(7):\n",
    "  passwords.append(list_of_passwords[i*7 + 2])\n",
    "passwords.append('nomeet')\n",
    "passwords.append('lovert')\n",
    "passwords.append('miptisthebest2020')"
   ]
  },
  {
   "cell_type": "code",
   "execution_count": 377,
   "metadata": {
    "colab": {
     "base_uri": "https://localhost:8080/"
    },
    "id": "DOluxBRGmdp1",
    "outputId": "92b94916-008e-4b41-8ef0-016a9cfdaad2"
   },
   "outputs": [
    {
     "name": "stdout",
     "output_type": "stream",
     "text": [
      "['123456789', 'iloveyou', '123123', 'password1', 'passw0rd', 'george', 'solo', 'nomeet', 'lovert', 'miptisthebest2020']\n"
     ]
    }
   ],
   "source": [
    "print(passwords)"
   ]
  },
  {
   "cell_type": "code",
   "execution_count": 378,
   "metadata": {
    "id": "QpZtHqf0mhYN"
   },
   "outputs": [],
   "source": [
    "passwords_hashed = []\n",
    "for i in range(10):\n",
    "  hs = hashlib.sha256(passwords[i].encode()).hexdigest()\n",
    "  passwords_hashed.append(hs)"
   ]
  },
  {
   "cell_type": "code",
   "execution_count": 379,
   "metadata": {
    "id": "28nBOAEUhZNO"
   },
   "outputs": [],
   "source": [
    "def create_dict(list_of_ids, list_of_names, list_of_genders, list_of_dates, passwords_hashed):\n",
    "  database = {}\n",
    "  for i in range(10):\n",
    "    user = {}\n",
    "    user['name'] = list_of_names[i]\n",
    "    user['sex'] = list_of_genders[i]\n",
    "    user['date_of_registration'] = list_of_dates[i]\n",
    "    user['password_hashed'] = passwords_hashed[i]\n",
    "    database[list_of_ids[i]] = user\n",
    "  return database"
   ]
  },
  {
   "cell_type": "code",
   "execution_count": 380,
   "metadata": {
    "id": "NBdYcUA2mD5h"
   },
   "outputs": [],
   "source": [
    "db = create_dict(list_of_ids, list_of_names, list_of_genders, list_of_dates, passwords_hashed)"
   ]
  },
  {
   "cell_type": "code",
   "execution_count": 381,
   "metadata": {
    "colab": {
     "base_uri": "https://localhost:8080/"
    },
    "id": "NwxGj6BbnX_i",
    "outputId": "8a4a1741-360f-4101-d98e-e75a49f27122"
   },
   "outputs": [
    {
     "name": "stdout",
     "output_type": "stream",
     "text": [
      "{809570: {'name': 'Alice', 'sex': 'F', 'date_of_registration': '08/02/2019', 'password_hashed': '15e2b0d3c33891ebb0f1ef609ec419420c20e320ce94c65fbc8c3312448eb225'}, 876646: {'name': 'Bob', 'sex': 'M', 'date_of_registration': '08/16/2016', 'password_hashed': 'e4ad93ca07acb8d908a3aa41e920ea4f4ef4f26e7f86cf8291c5db289780a5ae'}, 671858: {'name': 'Carol', 'sex': 'F', 'date_of_registration': '02/21/2016', 'password_hashed': '96cae35ce8a9b0244178bf28e4966c2ce1b8385723a96a6b838858cdd6ca0a1e'}, 191161: {'name': 'Chuck', 'sex': 'M', 'date_of_registration': '02/27/2020', 'password_hashed': '0b14d501a594442a01c6859541bcb3e8164d183d32937b851835442f69d5c94e'}, 719176: {'name': 'Craig', 'sex': 'M', 'date_of_registration': '07/17/2017', 'password_hashed': '8f0e2f76e22b43e2855189877e7dc1e1e7d98c226c95db247cd1d547928334a9'}, 542417: {'name': 'Dave', 'sex': 'M', 'date_of_registration': '05/16/2017', 'password_hashed': '0522a55e2d5f0993a3d66d28864b2862a7218a75ea7968b075333434404485c3'}, 133326: {'name': 'Eve', 'sex': 'F', 'date_of_registration': '04/02/2017', 'password_hashed': '5364f2f2fc4f54e9d47ad29cfb08ef430c8153394bf2a0dff5cbe77a0ffef861'}, 131244: {'name': 'Peggy', 'sex': 'F', 'date_of_registration': '10/12/2016', 'password_hashed': 'd41afde1440169ee46047c1417ce2e5a23e065b457130838b47aaaddb5d6158f'}, 198246: {'name': 'Trent', 'sex': 'M', 'date_of_registration': '02/17/2020', 'password_hashed': '6270fb703047c4d15c2176dde2a6796e5ab7f37df3ba0ab39f9a627b4caa90ad'}, 329258: {'name': 'Walter', 'sex': 'M', 'date_of_registration': '07/28/2016', 'password_hashed': '7bc74e986efbed6207361ad08e93c086891383201a102ad35b4bad5947667a8d'}}\n"
     ]
    }
   ],
   "source": [
    "print(db)"
   ]
  },
  {
   "cell_type": "code",
   "execution_count": 382,
   "metadata": {
    "id": "qEwLQjfXncQK"
   },
   "outputs": [],
   "source": [
    "def show_db(db):\n",
    "  pd.set_option('display.max_columns', 5)\n",
    "  pd.set_option('display.width', 1500)\n",
    "  s = pd.DataFrame.from_dict(db, orient='index')\n",
    "  print(s)"
   ]
  },
  {
   "cell_type": "code",
   "execution_count": 383,
   "metadata": {
    "colab": {
     "base_uri": "https://localhost:8080/"
    },
    "id": "PFU6NoiontXG",
    "outputId": "887038a6-837a-4ffa-e74e-cac5ce2ce4ff"
   },
   "outputs": [
    {
     "name": "stdout",
     "output_type": "stream",
     "text": [
      "          name sex date_of_registration                                    password_hashed\n",
      "809570   Alice   F           08/02/2019  15e2b0d3c33891ebb0f1ef609ec419420c20e320ce94c6...\n",
      "876646     Bob   M           08/16/2016  e4ad93ca07acb8d908a3aa41e920ea4f4ef4f26e7f86cf...\n",
      "671858   Carol   F           02/21/2016  96cae35ce8a9b0244178bf28e4966c2ce1b8385723a96a...\n",
      "191161   Chuck   M           02/27/2020  0b14d501a594442a01c6859541bcb3e8164d183d32937b...\n",
      "719176   Craig   M           07/17/2017  8f0e2f76e22b43e2855189877e7dc1e1e7d98c226c95db...\n",
      "542417    Dave   M           05/16/2017  0522a55e2d5f0993a3d66d28864b2862a7218a75ea7968...\n",
      "133326     Eve   F           04/02/2017  5364f2f2fc4f54e9d47ad29cfb08ef430c8153394bf2a0...\n",
      "131244   Peggy   F           10/12/2016  d41afde1440169ee46047c1417ce2e5a23e065b4571308...\n",
      "198246   Trent   M           02/17/2020  6270fb703047c4d15c2176dde2a6796e5ab7f37df3ba0a...\n",
      "329258  Walter   M           07/28/2016  7bc74e986efbed6207361ad08e93c086891383201a102a...\n"
     ]
    }
   ],
   "source": [
    "show_db(db)"
   ]
  },
  {
   "cell_type": "code",
   "execution_count": 384,
   "metadata": {
    "id": "GAX-mB_fnynS"
   },
   "outputs": [],
   "source": [
    "with open(\"database.json\", \"w\") as outfile:  \n",
    "    json.dump(db, outfile) "
   ]
  },
  {
   "cell_type": "code",
   "execution_count": null,
   "metadata": {
    "id": "sCd6_HOfqR6V"
   },
   "outputs": [],
   "source": []
  }
 ],
 "metadata": {
  "colab": {
   "name": "Проект по ЗИ.ipynb",
   "provenance": []
  },
  "kernelspec": {
   "display_name": "Python 3",
   "language": "python",
   "name": "python3"
  },
  "language_info": {
   "codemirror_mode": {
    "name": "ipython",
    "version": 3
   },
   "file_extension": ".py",
   "mimetype": "text/x-python",
   "name": "python",
   "nbconvert_exporter": "python",
   "pygments_lexer": "ipython3",
   "version": "3.7.2"
  }
 },
 "nbformat": 4,
 "nbformat_minor": 1
}
