{
 "cells": [
  {
   "cell_type": "code",
   "execution_count": 2,
   "metadata": {
    "id": "zWoTkUzXZ7WC"
   },
   "outputs": [
    {
     "ename": "ModuleNotFoundError",
     "evalue": "No module named 'requests'",
     "output_type": "error",
     "traceback": [
      "\u001b[1;31m---------------------------------------------------------------------------\u001b[0m",
      "\u001b[1;31mModuleNotFoundError\u001b[0m                       Traceback (most recent call last)",
      "\u001b[1;32m<ipython-input-2-217904eba194>\u001b[0m in \u001b[0;36m<module>\u001b[1;34m\u001b[0m\n\u001b[0;32m      2\u001b[0m \u001b[1;32mimport\u001b[0m \u001b[0mrandom\u001b[0m\u001b[1;33m\u001b[0m\u001b[1;33m\u001b[0m\u001b[0m\n\u001b[0;32m      3\u001b[0m \u001b[1;32mimport\u001b[0m \u001b[0mpandas\u001b[0m \u001b[1;32mas\u001b[0m \u001b[0mpd\u001b[0m\u001b[1;33m\u001b[0m\u001b[1;33m\u001b[0m\u001b[0m\n\u001b[1;32m----> 4\u001b[1;33m \u001b[1;32mimport\u001b[0m \u001b[0mrequests\u001b[0m\u001b[1;33m\u001b[0m\u001b[1;33m\u001b[0m\u001b[0m\n\u001b[0m\u001b[0;32m      5\u001b[0m \u001b[1;32mimport\u001b[0m \u001b[0mhashlib\u001b[0m\u001b[1;33m\u001b[0m\u001b[1;33m\u001b[0m\u001b[0m\n\u001b[0;32m      6\u001b[0m \u001b[1;32mimport\u001b[0m \u001b[0mjson\u001b[0m\u001b[1;33m\u001b[0m\u001b[1;33m\u001b[0m\u001b[0m\n",
      "\u001b[1;31mModuleNotFoundError\u001b[0m: No module named 'requests'"
     ]
    }
   ],
   "source": [
    "import datetime\n",
    "import random\n",
    "import pandas as pd\n",
    "import requests\n",
    "import hashlib\n",
    "import json"
   ]
  },
  {
   "cell_type": "code",
   "execution_count": null,
   "metadata": {
    "id": "OGSC2R-flk19"
   },
   "outputs": [],
   "source": [
    "random.seed(42)"
   ]
  },
  {
   "cell_type": "code",
   "execution_count": null,
   "metadata": {
    "id": "TU9VW04_bEH7"
   },
   "outputs": [],
   "source": [
    "def generate_date():\n",
    "  start_date = datetime.date(2016, 1, 1)\n",
    "  end_date = datetime.date(2020, 12, 17)\n",
    "  time_between_dates = end_date - start_date\n",
    "  days_between_dates = time_between_dates.days\n",
    "  random_number_of_days = random.randrange(days_between_dates)\n",
    "  random_date = start_date + datetime.timedelta(days=random_number_of_days)\n",
    "  return random_date.strftime(\"%m/%d/%Y\")"
   ]
  },
  {
   "cell_type": "code",
   "execution_count": null,
   "metadata": {
    "id": "TsDo2upqbRnB"
   },
   "outputs": [],
   "source": [
    "list_of_names = ['Alice', 'Bob', 'Carol', 'Chuck', 'Craig', 'Dave', 'Eve', 'Peggy', 'Trent', 'Walter']"
   ]
  },
  {
   "cell_type": "code",
   "execution_count": null,
   "metadata": {
    "id": "9o1R2srDbnNx"
   },
   "outputs": [],
   "source": [
    "list_of_genders = ['F', 'M', 'F', 'M', 'M', 'M', 'F', 'F', 'M', 'M']"
   ]
  },
  {
   "cell_type": "code",
   "execution_count": null,
   "metadata": {
    "id": "UtjgoR9JcJxm"
   },
   "outputs": [],
   "source": [
    "list_of_dates = []\n",
    "for i in range(10):\n",
    "  list_of_dates.append(generate_date())"
   ]
  },
  {
   "cell_type": "code",
   "execution_count": null,
   "metadata": {
    "id": "AojCyn1rdawQ"
   },
   "outputs": [],
   "source": [
    "list_of_ids = []\n",
    "for i in range(10):\n",
    "  list_of_ids.append(random.randint(100000, 999999))"
   ]
  },
  {
   "cell_type": "code",
   "execution_count": null,
   "metadata": {
    "id": "NayzzkONfkCO"
   },
   "outputs": [],
   "source": [
    "url = \"https://www.ianoffers.com/top-100-passwords-of-2018/\"\n",
    "\n",
    "r = requests.get(url)\n",
    "df_list = pd.read_html(r.text)\n",
    "df = df_list[0]"
   ]
  },
  {
   "cell_type": "code",
   "execution_count": null,
   "metadata": {
    "id": "LD_tqBXKg15z"
   },
   "outputs": [],
   "source": [
    "list_of_passwords = df[1]"
   ]
  },
  {
   "cell_type": "code",
   "execution_count": null,
   "metadata": {
    "id": "ht0jyCsYhXN8"
   },
   "outputs": [],
   "source": [
    "passwords = []\n",
    "for i in range(7):\n",
    "  passwords.append(list_of_passwords[i*7 + 2])\n",
    "passwords.append('nomeet')\n",
    "passwords.append('lovert')\n",
    "passwords.append('miptisthebest2020')"
   ]
  },
  {
   "cell_type": "code",
   "execution_count": null,
   "metadata": {
    "colab": {
     "base_uri": "https://localhost:8080/"
    },
    "id": "DOluxBRGmdp1",
    "outputId": "92b94916-008e-4b41-8ef0-016a9cfdaad2"
   },
   "outputs": [],
   "source": [
    "print(passwords)"
   ]
  },
  {
   "cell_type": "code",
   "execution_count": null,
   "metadata": {
    "id": "QpZtHqf0mhYN"
   },
   "outputs": [],
   "source": [
    "passwords_hashed = []\n",
    "for i in range(10):\n",
    "  hs = hashlib.sha256(passwords[i].encode()).hexdigest()\n",
    "  passwords_hashed.append(hs)"
   ]
  },
  {
   "cell_type": "code",
   "execution_count": null,
   "metadata": {
    "id": "28nBOAEUhZNO"
   },
   "outputs": [],
   "source": [
    "def create_dict(list_of_ids, list_of_names, list_of_genders, list_of_dates, passwords_hashed):\n",
    "  database = {}\n",
    "  for i in range(10):\n",
    "    user = {}\n",
    "    user['name'] = list_of_names[i]\n",
    "    user['sex'] = list_of_genders[i]\n",
    "    user['date_of_registration'] = list_of_dates[i]\n",
    "    user['password_hashed'] = passwords_hashed[i]\n",
    "    database[list_of_ids[i]] = user\n",
    "  return database"
   ]
  },
  {
   "cell_type": "code",
   "execution_count": null,
   "metadata": {
    "id": "NBdYcUA2mD5h"
   },
   "outputs": [],
   "source": [
    "db = create_dict(list_of_ids, list_of_names, list_of_genders, list_of_dates, passwords_hashed)"
   ]
  },
  {
   "cell_type": "code",
   "execution_count": null,
   "metadata": {
    "colab": {
     "base_uri": "https://localhost:8080/"
    },
    "id": "NwxGj6BbnX_i",
    "outputId": "8a4a1741-360f-4101-d98e-e75a49f27122"
   },
   "outputs": [],
   "source": [
    "print(db)"
   ]
  },
  {
   "cell_type": "code",
   "execution_count": null,
   "metadata": {
    "id": "qEwLQjfXncQK"
   },
   "outputs": [],
   "source": [
    "def show_db(db):\n",
    "  pd.set_option('display.max_columns', 5)\n",
    "  pd.set_option('display.width', 1500)\n",
    "  s = pd.DataFrame.from_dict(db, orient='index')\n",
    "  print(s)"
   ]
  },
  {
   "cell_type": "code",
   "execution_count": null,
   "metadata": {
    "colab": {
     "base_uri": "https://localhost:8080/"
    },
    "id": "PFU6NoiontXG",
    "outputId": "887038a6-837a-4ffa-e74e-cac5ce2ce4ff"
   },
   "outputs": [],
   "source": [
    "show_db(db)"
   ]
  },
  {
   "cell_type": "code",
   "execution_count": null,
   "metadata": {
    "id": "GAX-mB_fnynS"
   },
   "outputs": [],
   "source": [
    "with open(\"database.json\", \"w\") as outfile:  \n",
    "    json.dump(db, outfile) "
   ]
  },
  {
   "cell_type": "code",
   "execution_count": null,
   "metadata": {
    "id": "sCd6_HOfqR6V"
   },
   "outputs": [],
   "source": []
  }
 ],
 "metadata": {
  "colab": {
   "name": "Проект по ЗИ.ipynb",
   "provenance": []
  },
  "kernelspec": {
   "display_name": "Python 3",
   "language": "python",
   "name": "python3"
  },
  "language_info": {
   "codemirror_mode": {
    "name": "ipython",
    "version": 3
   },
   "file_extension": ".py",
   "mimetype": "text/x-python",
   "name": "python",
   "nbconvert_exporter": "python",
   "pygments_lexer": "ipython3",
   "version": "3.7.2"
  }
 },
 "nbformat": 4,
 "nbformat_minor": 1
}
