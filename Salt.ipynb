{
 "cells": [
  {
   "cell_type": "code",
   "execution_count": 14,
   "metadata": {},
   "outputs": [
    {
     "name": "stdout",
     "output_type": "stream",
     "text": [
      "f9a819\n"
     ]
    }
   ],
   "source": [
    "import hashlib\n",
    "\n",
    "def encrypt_string(hash_string):\n",
    "    sha_signature = \\\n",
    "        hashlib.sha256(hash_string.encode()).hexdigest()\n",
    "    return sha_signature\n",
    "\n",
    "name     = 'Alice'\n",
    "date     = '15.04.2008'\n",
    "gender   = 'f'\n",
    "password = '123456'\n",
    "\n",
    "data = name, gender, date\n",
    "\n",
    "def make_salt (password, data):\n",
    "    name, gen, date = data\n",
    "    pre_salt = name + date + gender\n",
    "    salt = encrypt_string (pre_salt)[:6]\n",
    "    \n",
    "    return salt\n",
    "    \n",
    "salt_password (password, data)\n"
   ]
  },
  {
   "cell_type": "code",
   "execution_count": 3,
   "metadata": {},
   "outputs": [
    {
     "data": {
      "text/plain": [
       "'basdf'"
      ]
     },
     "execution_count": 3,
     "metadata": {},
     "output_type": "execute_result"
    }
   ],
   "source": [
    "\n"
   ]
  }
 ],
 "metadata": {
  "kernelspec": {
   "display_name": "Python 3",
   "language": "python",
   "name": "python3"
  },
  "language_info": {
   "codemirror_mode": {
    "name": "ipython",
    "version": 3
   },
   "file_extension": ".py",
   "mimetype": "text/x-python",
   "name": "python",
   "nbconvert_exporter": "python",
   "pygments_lexer": "ipython3",
   "version": "3.7.2"
  }
 },
 "nbformat": 4,
 "nbformat_minor": 2
}
