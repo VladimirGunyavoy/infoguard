{
 "cells": [
  {
   "cell_type": "code",
   "execution_count": 1,
   "metadata": {
    "id": "-e_n4wXD2VQH"
   },
   "outputs": [],
   "source": [
    "import numpy as np\n",
    "import json\n",
    "import itertools\n",
    "import string\n",
    "import hashlib\n",
    "import time\n",
    "\n",
    "hash_len = 20"
   ]
  },
  {
   "cell_type": "markdown",
   "metadata": {
    "id": "jgQVTHs23jGg"
   },
   "source": [
    "Взламываем таблицу без соли"
   ]
  },
  {
   "cell_type": "code",
   "execution_count": 35,
   "metadata": {
    "id": "npJmqygN3mMu"
   },
   "outputs": [],
   "source": [
    "with open('salted_server.json') as json_file:\n",
    "  data = json.load(json_file)"
   ]
  },
  {
   "cell_type": "code",
   "execution_count": 36,
   "metadata": {
    "id": "G7GzDK593zEb"
   },
   "outputs": [],
   "source": [
    "with open('rainbow_table.json') as json_file:\n",
    "  table = json.load(json_file)"
   ]
  },
  {
   "cell_type": "code",
   "execution_count": 19,
   "metadata": {
    "id": "3-SnWmm_8Kch"
   },
   "outputs": [],
   "source": [
    "def brute_force(brute_force_passwords, hash_len):\n",
    "  passwords_got = ['', '', '']\n",
    "  alphabet_string = string.ascii_lowercase\n",
    "  alphabet_list = list(alphabet_string)\n",
    "  #print(alphabet_list)\n",
    "  for j in range(7):\n",
    "    #print(j, ' is done')\n",
    "    for i in itertools.product(alphabet_list, repeat=j):\n",
    "      symbols = list(i)\n",
    "      passw = ''.join(symbols)\n",
    "      #if passw == 'abcdfe':\n",
    "        #print('g')\n",
    "      hs = hashlib.sha256(passw.encode()).hexdigest()[:hash_len]\n",
    "      if hs in brute_force_passwords:\n",
    "        numb = brute_force_passwords.index(hs)\n",
    "        passwords_got[numb] = passw\n",
    "  return passwords_got"
   ]
  },
  {
   "cell_type": "code",
   "execution_count": 25,
   "metadata": {
    "id": "2FVfoLKY4iEx"
   },
   "outputs": [],
   "source": [
    "def hack_database(db, table, hash_len):\n",
    "  start_time = time.time()\n",
    "  users = list(db.keys())\n",
    "  users_hacked = [0, 0, 0, 0, 0, 0, 0, 0, 0, 0]\n",
    "  for i, el in enumerate(users):\n",
    "    if db[el]['password_hashed'] in table.keys():\n",
    "      print (i+1)\n",
    "      print('User ', db[el]['name'], ' is hacked')\n",
    "      print('Password of user ', db[el]['name'], ' is ', table[db[el]['password_hashed']])\n",
    "      print ()\n",
    "      users_hacked[i] = 1\n",
    "  to_brute_force = []\n",
    "  brute_force_passwords = []\n",
    "  for i, el in enumerate(users_hacked):\n",
    "    if el == 0:\n",
    "      to_brute_force.append(users[i])\n",
    "      brute_force_passwords.append(db[users[i]]['password_hashed'])\n",
    "  #print(brute_force_passwords)   \n",
    "  actual_passwords = brute_force(brute_force_passwords, hash_len)\n",
    "  for i, el in enumerate(actual_passwords):\n",
    "    if el == '':\n",
    "      print('We couldn\\'t hack ', db[to_brute_force[i]]['name'])\n",
    "    else:\n",
    "      print('User ', db[to_brute_force[i]]['name'], ' is hacked')\n",
    "      print('Password of user ', db[to_brute_force[i]]['name'], ' is ', el)\n",
    "  end_time = time.time()\n",
    "  print('Hacking took ', end_time-start_time, ' seconds')"
   ]
  },
  {
   "cell_type": "code",
   "execution_count": 26,
   "metadata": {
    "colab": {
     "base_uri": "https://localhost:8080/",
     "height": 599
    },
    "id": "-ygyGV0n4zwv",
    "outputId": "4406c684-a10d-49da-9ae9-dfdcd43232f3"
   },
   "outputs": [
    {
     "ename": "KeyError",
     "evalue": "'password_hashed'",
     "output_type": "error",
     "traceback": [
      "\u001b[1;31m---------------------------------------------------------------------------\u001b[0m",
      "\u001b[1;31mKeyError\u001b[0m                                  Traceback (most recent call last)",
      "\u001b[1;32m<ipython-input-26-98aa6d57e746>\u001b[0m in \u001b[0;36m<module>\u001b[1;34m\u001b[0m\n\u001b[1;32m----> 1\u001b[1;33m \u001b[0mhack_database\u001b[0m\u001b[1;33m(\u001b[0m\u001b[0mdata\u001b[0m\u001b[1;33m,\u001b[0m \u001b[0mtable\u001b[0m\u001b[1;33m,\u001b[0m \u001b[0mhash_len\u001b[0m\u001b[1;33m)\u001b[0m\u001b[1;33m\u001b[0m\u001b[1;33m\u001b[0m\u001b[0m\n\u001b[0m",
      "\u001b[1;32m<ipython-input-25-669663e81439>\u001b[0m in \u001b[0;36mhack_database\u001b[1;34m(db, table, hash_len)\u001b[0m\n\u001b[0;32m      4\u001b[0m   \u001b[0musers_hacked\u001b[0m \u001b[1;33m=\u001b[0m \u001b[1;33m[\u001b[0m\u001b[1;36m0\u001b[0m\u001b[1;33m,\u001b[0m \u001b[1;36m0\u001b[0m\u001b[1;33m,\u001b[0m \u001b[1;36m0\u001b[0m\u001b[1;33m,\u001b[0m \u001b[1;36m0\u001b[0m\u001b[1;33m,\u001b[0m \u001b[1;36m0\u001b[0m\u001b[1;33m,\u001b[0m \u001b[1;36m0\u001b[0m\u001b[1;33m,\u001b[0m \u001b[1;36m0\u001b[0m\u001b[1;33m,\u001b[0m \u001b[1;36m0\u001b[0m\u001b[1;33m,\u001b[0m \u001b[1;36m0\u001b[0m\u001b[1;33m,\u001b[0m \u001b[1;36m0\u001b[0m\u001b[1;33m]\u001b[0m\u001b[1;33m\u001b[0m\u001b[1;33m\u001b[0m\u001b[0m\n\u001b[0;32m      5\u001b[0m   \u001b[1;32mfor\u001b[0m \u001b[0mi\u001b[0m\u001b[1;33m,\u001b[0m \u001b[0mel\u001b[0m \u001b[1;32min\u001b[0m \u001b[0menumerate\u001b[0m\u001b[1;33m(\u001b[0m\u001b[0musers\u001b[0m\u001b[1;33m)\u001b[0m\u001b[1;33m:\u001b[0m\u001b[1;33m\u001b[0m\u001b[1;33m\u001b[0m\u001b[0m\n\u001b[1;32m----> 6\u001b[1;33m     \u001b[1;32mif\u001b[0m \u001b[0mdb\u001b[0m\u001b[1;33m[\u001b[0m\u001b[0mel\u001b[0m\u001b[1;33m]\u001b[0m\u001b[1;33m[\u001b[0m\u001b[1;34m'password_hashed'\u001b[0m\u001b[1;33m]\u001b[0m \u001b[1;32min\u001b[0m \u001b[0mtable\u001b[0m\u001b[1;33m.\u001b[0m\u001b[0mkeys\u001b[0m\u001b[1;33m(\u001b[0m\u001b[1;33m)\u001b[0m\u001b[1;33m:\u001b[0m\u001b[1;33m\u001b[0m\u001b[1;33m\u001b[0m\u001b[0m\n\u001b[0m\u001b[0;32m      7\u001b[0m       \u001b[0mprint\u001b[0m \u001b[1;33m(\u001b[0m\u001b[0mi\u001b[0m\u001b[1;33m+\u001b[0m\u001b[1;36m1\u001b[0m\u001b[1;33m)\u001b[0m\u001b[1;33m\u001b[0m\u001b[1;33m\u001b[0m\u001b[0m\n\u001b[0;32m      8\u001b[0m       \u001b[0mprint\u001b[0m\u001b[1;33m(\u001b[0m\u001b[1;34m'User '\u001b[0m\u001b[1;33m,\u001b[0m \u001b[0mdb\u001b[0m\u001b[1;33m[\u001b[0m\u001b[0mel\u001b[0m\u001b[1;33m]\u001b[0m\u001b[1;33m[\u001b[0m\u001b[1;34m'name'\u001b[0m\u001b[1;33m]\u001b[0m\u001b[1;33m,\u001b[0m \u001b[1;34m' is hacked'\u001b[0m\u001b[1;33m)\u001b[0m\u001b[1;33m\u001b[0m\u001b[1;33m\u001b[0m\u001b[0m\n",
      "\u001b[1;31mKeyError\u001b[0m: 'password_hashed'"
     ]
    }
   ],
   "source": [
    "hack_database(data, table, hash_len)"
   ]
  },
  {
   "cell_type": "code",
   "execution_count": 32,
   "metadata": {
    "id": "wUm-4leGA9GK"
   },
   "outputs": [],
   "source": [
    "def encrypt_string (hash_string):\n",
    "    sha_signature = \\\n",
    "        hashlib.sha256(hash_string.encode()).hexdigest()\n",
    "    return sha_signature\n",
    "  \n",
    "def salt_password (password, salt):\n",
    "  salted_password = password + '_' + salt\n",
    "  salted_hash = encrypt_string (salted_password)[:hash_len]\n",
    "  \n",
    "  return salted_hash"
   ]
  },
  {
   "cell_type": "code",
   "execution_count": 38,
   "metadata": {},
   "outputs": [
    {
     "name": "stdout",
     "output_type": "stream",
     "text": [
      "Alice  -  123456789\n",
      "Bob  -  iloveyou\n",
      "Carol  -  123123\n",
      "Chuck  -  password1\n",
      "Craig  -  passw0rd\n",
      "Dave  -  george\n",
      "Eve  -  solo\n"
     ]
    }
   ],
   "source": [
    "for key in data.keys():\n",
    "  user = data[key]\n",
    "  salt = user['salt']\n",
    "  hs   = user['salted_hash']\n",
    "  for password in list(table.values()):\n",
    "    salted_p  = salt_password (password, salt)\n",
    "    salted_hs = encrypt_string (salted_p)\n",
    "    if hs == salted_p:\n",
    "      print (data[key]['name'], ' - ', password)\n",
    "  "
   ]
  },
  {
   "cell_type": "code",
   "execution_count": 29,
   "metadata": {},
   "outputs": [
    {
     "name": "stdout",
     "output_type": "stream",
     "text": [
      "['123456', 'password', '123456789', '12345678', '12345', '111111', '1234567', 'sunshine', 'qwerty', 'iloveyou', 'princess', 'admin', 'welcome', '666666', 'abc123', 'football', '123123', 'monkey', '654321', '!@#$%^&*', 'charlie', 'aa123456', 'donald', 'password1', 'qwerty123', 'zxcvbnm', '121212', 'bailey', 'freedom', 'shadow', 'passw0rd', 'baseball', 'buster', 'daniel', 'hannah', 'thomas', 'summer', 'george', 'harley', '222222', 'jessica', 'ginger', 'letmein', 'abcdef', 'solo', 'jordan', '55555', 'tigger', 'joshua', 'pepper', 'sophie', '1234', 'robert', 'matthew', '12341234', 'andrew', 'lakers', 'andrea', '1qaz2wsx', 'starwars', 'ferrari', 'cheese', 'computer', 'corvette', 'mercedes', 'blahblah', 'maverick', 'hello', 'nicole', 'hunter', '1989', 'amanda', '1990', 'jennifer', 'banana', 'chelsea', 'ranger', '1991', 'trustno1', 'merlin', 'cookie', 'ashley', 'bandit', 'killer', 'aaaaaa', '1q2w3e', 'zaq1zaq1', 'test', 'hockey', 'dallas', 'whatever', 'admin123', 'pussy', 'liverpool', 'querty', 'william', 'soccer', 'london', '1992', 'biteme']\n"
     ]
    }
   ],
   "source": [
    "print (list(table.values()))"
   ]
  },
  {
   "cell_type": "code",
   "execution_count": null,
   "metadata": {},
   "outputs": [],
   "source": []
  }
 ],
 "metadata": {
  "colab": {
   "collapsed_sections": [],
   "name": "Демонстрация взлома базы данных.ipynb",
   "provenance": []
  },
  "kernelspec": {
   "display_name": "Python 3",
   "language": "python",
   "name": "python3"
  },
  "language_info": {
   "codemirror_mode": {
    "name": "ipython",
    "version": 3
   },
   "file_extension": ".py",
   "mimetype": "text/x-python",
   "name": "python",
   "nbconvert_exporter": "python",
   "pygments_lexer": "ipython3",
   "version": "3.7.2"
  }
 },
 "nbformat": 4,
 "nbformat_minor": 1
}
