{
 "cells": [
  {
   "cell_type": "code",
   "execution_count": 353,
   "metadata": {
    "id": "zWoTkUzXZ7WC"
   },
   "outputs": [],
   "source": [
    "import datetime\n",
    "import random\n",
    "import pandas as pd\n",
    "import requests\n",
    "import hashlib\n",
    "import json\n",
    "import copy\n",
    "\n",
    "hash_len = 20"
   ]
  },
  {
   "cell_type": "code",
   "execution_count": 224,
   "metadata": {
    "id": "OGSC2R-flk19"
   },
   "outputs": [],
   "source": [
    "random.seed(42)"
   ]
  },
  {
   "cell_type": "code",
   "execution_count": 298,
   "metadata": {
    "id": "TU9VW04_bEH7"
   },
   "outputs": [],
   "source": [
    "def generate_date():\n",
    "    start_date = datetime.date(2016, 1, 1)\n",
    "    end_date = datetime.date(2020, 12, 17)\n",
    "    time_between_dates = end_date - start_date\n",
    "    days_between_dates = time_between_dates.days\n",
    "    random_number_of_days = random.randrange(days_between_dates)\n",
    "    random_date = start_date + datetime.timedelta(days=random_number_of_days)\n",
    "    return random_date.strftime(\"%m/%d/%Y\")"
   ]
  },
  {
   "cell_type": "code",
   "execution_count": 299,
   "metadata": {
    "id": "TsDo2upqbRnB"
   },
   "outputs": [],
   "source": [
    "list_of_names = ['Alice', 'Bob', 'Carol', 'Chuck', 'Craig', 'Dave', 'Eve', 'Peggy', 'Trent', 'Walter']"
   ]
  },
  {
   "cell_type": "code",
   "execution_count": 300,
   "metadata": {
    "id": "9o1R2srDbnNx"
   },
   "outputs": [],
   "source": [
    "list_of_genders = ['F', 'M', 'F', 'M', 'M', 'M', 'F', 'F', 'M', 'M']"
   ]
  },
  {
   "cell_type": "code",
   "execution_count": 301,
   "metadata": {
    "id": "UtjgoR9JcJxm"
   },
   "outputs": [],
   "source": [
    "list_of_dates = []\n",
    "for i in range(10):\n",
    "  list_of_dates.append(generate_date())"
   ]
  },
  {
   "cell_type": "code",
   "execution_count": 302,
   "metadata": {
    "id": "AojCyn1rdawQ"
   },
   "outputs": [],
   "source": [
    "list_of_ids = []\n",
    "for i in range(10):\n",
    "  list_of_ids.append(random.randint(100000, 999999))"
   ]
  },
  {
   "cell_type": "code",
   "execution_count": 303,
   "metadata": {
    "id": "NayzzkONfkCO"
   },
   "outputs": [],
   "source": [
    "url = \"https://www.ianoffers.com/top-100-passwords-of-2018/\"\n",
    "\n",
    "r = requests.get(url)\n",
    "df_list = pd.read_html(r.text)\n",
    "df = df_list[0]"
   ]
  },
  {
   "cell_type": "code",
   "execution_count": 304,
   "metadata": {
    "id": "LD_tqBXKg15z"
   },
   "outputs": [],
   "source": [
    "list_of_passwords = df[1]"
   ]
  },
  {
   "cell_type": "code",
   "execution_count": 305,
   "metadata": {
    "id": "ht0jyCsYhXN8"
   },
   "outputs": [],
   "source": [
    "passwords = []\n",
    "for i in range(7):\n",
    "    passwords.append(list_of_passwords[i*7 + 2])\n",
    "passwords.append('nomeet')\n",
    "passwords.append('lovert')\n",
    "passwords.append('miptisthebest2020')"
   ]
  },
  {
   "cell_type": "code",
   "execution_count": 306,
   "metadata": {
    "colab": {
     "base_uri": "https://localhost:8080/"
    },
    "id": "DOluxBRGmdp1",
    "outputId": "92b94916-008e-4b41-8ef0-016a9cfdaad2"
   },
   "outputs": [
    {
     "name": "stdout",
     "output_type": "stream",
     "text": [
      "['123456789', 'iloveyou', '123123', 'password1', 'passw0rd', 'george', 'solo', 'nomeet', 'lovert', 'miptisthebest2020']\n"
     ]
    }
   ],
   "source": [
    "print(passwords)"
   ]
  },
  {
   "cell_type": "code",
   "execution_count": 307,
   "metadata": {
    "id": "QpZtHqf0mhYN"
   },
   "outputs": [],
   "source": [
    "passwords_hashed = []\n",
    "for i in range(10):\n",
    "  hs = hashlib.sha256(passwords[i].encode()).hexdigest()[:hash_len]\n",
    "  passwords_hashed.append(hs)"
   ]
  },
  {
   "cell_type": "code",
   "execution_count": 308,
   "metadata": {
    "id": "28nBOAEUhZNO"
   },
   "outputs": [],
   "source": [
    "def create_dict(list_of_ids, list_of_names, list_of_genders, list_of_dates, passwords, passwords_hashed):\n",
    "  database = {}\n",
    "  for i in range(10):\n",
    "    user = {}\n",
    "    user['name'] = list_of_names[i]\n",
    "    user['sex'] = list_of_genders[i]\n",
    "    user['date_of_reg'] = list_of_dates[i]\n",
    "    user['password'] = passwords[i]\n",
    "    user['password_hashed'] = passwords_hashed[i]\n",
    "    database[list_of_ids[i]] = user\n",
    "  return database"
   ]
  },
  {
   "cell_type": "code",
   "execution_count": 354,
   "metadata": {
    "id": "NBdYcUA2mD5h"
   },
   "outputs": [],
   "source": [
    "db = create_dict(list_of_ids, list_of_names, list_of_genders, list_of_dates, passwords, passwords_hashed)"
   ]
  },
  {
   "cell_type": "code",
   "execution_count": 355,
   "metadata": {
    "colab": {
     "base_uri": "https://localhost:8080/"
    },
    "id": "NwxGj6BbnX_i",
    "outputId": "8a4a1741-360f-4101-d98e-e75a49f27122"
   },
   "outputs": [
    {
     "name": "stdout",
     "output_type": "stream",
     "text": [
      "{498382: {'name': 'Alice', 'sex': 'F', 'date_of_reg': '11/30/2019', 'password': '123456789', 'password_hashed': '15e2b0d3c33891ebb0f1'}, 201414: {'name': 'Bob', 'sex': 'M', 'date_of_reg': '05/15/2018', 'password': 'iloveyou', 'password_hashed': 'e4ad93ca07acb8d908a3'}, 476417: {'name': 'Carol', 'sex': 'F', 'date_of_reg': '11/27/2017', 'password': '123123', 'password_hashed': '96cae35ce8a9b0244178'}, 988662: {'name': 'Chuck', 'sex': 'M', 'date_of_reg': '07/23/2017', 'password': 'password1', 'password_hashed': '0b14d501a594442a01c6'}, 460663: {'name': 'Craig', 'sex': 'M', 'date_of_reg': '11/14/2016', 'password': 'passw0rd', 'password_hashed': '8f0e2f76e22b43e28551'}, 733052: {'name': 'Dave', 'sex': 'M', 'date_of_reg': '03/16/2017', 'password': 'george', 'password_hashed': '0522a55e2d5f0993a3d6'}, 377370: {'name': 'Eve', 'sex': 'F', 'date_of_reg': '04/12/2020', 'password': 'solo', 'password_hashed': '5364f2f2fc4f54e9d47a'}, 946335: {'name': 'Peggy', 'sex': 'F', 'date_of_reg': '11/20/2017', 'password': 'nomeet', 'password_hashed': 'd41afde1440169ee4604'}, 145561: {'name': 'Trent', 'sex': 'M', 'date_of_reg': '07/28/2016', 'password': 'lovert', 'password_hashed': '6270fb703047c4d15c21'}, 865179: {'name': 'Walter', 'sex': 'M', 'date_of_reg': '07/08/2016', 'password': 'miptisthebest2020', 'password_hashed': '7bc74e986efbed620736'}}\n"
     ]
    }
   ],
   "source": [
    "print(db)"
   ]
  },
  {
   "cell_type": "code",
   "execution_count": 356,
   "metadata": {
    "id": "qEwLQjfXncQK"
   },
   "outputs": [],
   "source": [
    "def show_db(db):\n",
    "  pd.set_option('display.max_columns', 7)\n",
    "  pd.set_option('display.width', 1500)\n",
    "  s = pd.DataFrame.from_dict(db, orient='index')\n",
    "  print(s)"
   ]
  },
  {
   "cell_type": "code",
   "execution_count": 357,
   "metadata": {
    "colab": {
     "base_uri": "https://localhost:8080/"
    },
    "id": "PFU6NoiontXG",
    "outputId": "887038a6-837a-4ffa-e74e-cac5ce2ce4ff"
   },
   "outputs": [
    {
     "name": "stdout",
     "output_type": "stream",
     "text": [
      "          name sex date_of_reg           password       password_hashed\n",
      "498382   Alice   F  11/30/2019          123456789  15e2b0d3c33891ebb0f1\n",
      "201414     Bob   M  05/15/2018           iloveyou  e4ad93ca07acb8d908a3\n",
      "476417   Carol   F  11/27/2017             123123  96cae35ce8a9b0244178\n",
      "988662   Chuck   M  07/23/2017          password1  0b14d501a594442a01c6\n",
      "460663   Craig   M  11/14/2016           passw0rd  8f0e2f76e22b43e28551\n",
      "733052    Dave   M  03/16/2017             george  0522a55e2d5f0993a3d6\n",
      "377370     Eve   F  04/12/2020               solo  5364f2f2fc4f54e9d47a\n",
      "946335   Peggy   F  11/20/2017             nomeet  d41afde1440169ee4604\n",
      "145561   Trent   M  07/28/2016             lovert  6270fb703047c4d15c21\n",
      "865179  Walter   M  07/08/2016  miptisthebest2020  7bc74e986efbed620736\n"
     ]
    }
   ],
   "source": [
    "show_db(db)"
   ]
  },
  {
   "cell_type": "code",
   "execution_count": 332,
   "metadata": {
    "id": "GAX-mB_fnynS"
   },
   "outputs": [],
   "source": [
    "with open(\"database.json\", \"w\") as outfile:  \n",
    "    json.dump(db, outfile) "
   ]
  },
  {
   "cell_type": "code",
   "execution_count": 333,
   "metadata": {
    "id": "sCd6_HOfqR6V"
   },
   "outputs": [
    {
     "data": {
      "text/plain": [
       "'f9a819'"
      ]
     },
     "execution_count": 333,
     "metadata": {},
     "output_type": "execute_result"
    }
   ],
   "source": [
    "import hashlib\n",
    "\n",
    "def encrypt_string (hash_string):\n",
    "    sha_signature = \\\n",
    "        hashlib.sha256(hash_string.encode()).hexdigest()\n",
    "    return sha_signature\n",
    "\n",
    "name     = 'Alice'\n",
    "date     = '15.04.2008'\n",
    "sex      = 'f'\n",
    "password = '123456'\n",
    "\n",
    "data = name, sex, date\n",
    "\n",
    "def make_salt (password, data):\n",
    "    name, sex, date = data\n",
    "    pre_salt = name + date + sex\n",
    "    salt = encrypt_string (pre_salt)[:6]\n",
    "    \n",
    "    return salt\n",
    "    \n",
    "make_salt (password, data)"
   ]
  },
  {
   "cell_type": "code",
   "execution_count": 334,
   "metadata": {},
   "outputs": [],
   "source": [
    "def salt_user (user):\n",
    "    salted_user = user\n",
    "    name = user['name']\n",
    "    date = user['date_of_reg']\n",
    "    sex  = user['sex']\n",
    "    password = user['password']\n",
    "    \n",
    "    data = name, sex, date\n",
    "    \n",
    "    salt = make_salt (password, data)\n",
    "    \n",
    "    salted_password = password + '_' + salt\n",
    "    salted_hash = encrypt_string (salted_password)\n",
    "    \n",
    "    salted_user['salt'] = salt\n",
    "    \n",
    "    salted_user['salted_hash'] = salted_hash[:hash_len]\n",
    "    \n",
    "    return salted_user"
   ]
  },
  {
   "cell_type": "code",
   "execution_count": 364,
   "metadata": {},
   "outputs": [
    {
     "name": "stdout",
     "output_type": "stream",
     "text": [
      "          name sex date_of_reg           password       password_hashed    salt           salted_hash\n",
      "498382   Alice   F  11/30/2019          123456789  15e2b0d3c33891ebb0f1  e059a0  8c418e263d043c3172c5\n",
      "201414     Bob   M  05/15/2018           iloveyou  e4ad93ca07acb8d908a3  c5302a  98068e6f42d3ebabbb84\n",
      "476417   Carol   F  11/27/2017             123123  96cae35ce8a9b0244178  3deaca  96b9d2ca452b829a125a\n",
      "988662   Chuck   M  07/23/2017          password1  0b14d501a594442a01c6  bae501  344f376f60a8c650abe5\n",
      "460663   Craig   M  11/14/2016           passw0rd  8f0e2f76e22b43e28551  4a0ff5  358bcdcae92ada6adc50\n",
      "733052    Dave   M  03/16/2017             george  0522a55e2d5f0993a3d6  1d744d  aa73fb694f92dc9ef0be\n",
      "377370     Eve   F  04/12/2020               solo  5364f2f2fc4f54e9d47a  d09ad3  e7ff2beee70ccfdf292d\n",
      "946335   Peggy   F  11/20/2017             nomeet  d41afde1440169ee4604  581b8d  18eae8b8af97c91306ba\n",
      "145561   Trent   M  07/28/2016             lovert  6270fb703047c4d15c21  eac16b  6401ce286bb3ee4bab8a\n",
      "865179  Walter   M  07/08/2016  miptisthebest2020  7bc74e986efbed620736  1cb4d7  eac0889219028035b57d\n"
     ]
    }
   ],
   "source": [
    "dbs = {}\n",
    "for key in db.keys():\n",
    "    user = db[key]\n",
    "    salted = salt_user (user)\n",
    "    dbs[key] = salted\n",
    "    \n",
    "show_db (dbs)"
   ]
  },
  {
   "cell_type": "code",
   "execution_count": 359,
   "metadata": {},
   "outputs": [],
   "source": [
    "server_db  = copy.deepcopy(dbs) \n",
    "server_dbs = copy.deepcopy(dbs) \n",
    "\n",
    "for key in dbs.keys():\n",
    "\n",
    "    server_db[key].pop ('password', None)\n",
    "    server_db[key].pop ('salt', None)\n",
    "    server_db[key].pop ('salted_hash', None)\n",
    "    \n",
    "    server_dbs[key].pop ('password', None)\n",
    "    server_dbs[key].pop ('password_hashed', None)\n",
    "    \n"
   ]
  },
  {
   "cell_type": "code",
   "execution_count": 363,
   "metadata": {},
   "outputs": [
    {
     "name": "stdout",
     "output_type": "stream",
     "text": [
      "          name sex date_of_reg       password_hashed\n",
      "498382   Alice   F  11/30/2019  15e2b0d3c33891ebb0f1\n",
      "201414     Bob   M  05/15/2018  e4ad93ca07acb8d908a3\n",
      "476417   Carol   F  11/27/2017  96cae35ce8a9b0244178\n",
      "988662   Chuck   M  07/23/2017  0b14d501a594442a01c6\n",
      "460663   Craig   M  11/14/2016  8f0e2f76e22b43e28551\n",
      "733052    Dave   M  03/16/2017  0522a55e2d5f0993a3d6\n",
      "377370     Eve   F  04/12/2020  5364f2f2fc4f54e9d47a\n",
      "946335   Peggy   F  11/20/2017  d41afde1440169ee4604\n",
      "145561   Trent   M  07/28/2016  6270fb703047c4d15c21\n",
      "865179  Walter   M  07/08/2016  7bc74e986efbed620736\n",
      "\n",
      "          name sex date_of_reg    salt           salted_hash\n",
      "498382   Alice   F  11/30/2019  e059a0  8c418e263d043c3172c5\n",
      "201414     Bob   M  05/15/2018  c5302a  98068e6f42d3ebabbb84\n",
      "476417   Carol   F  11/27/2017  3deaca  96b9d2ca452b829a125a\n",
      "988662   Chuck   M  07/23/2017  bae501  344f376f60a8c650abe5\n",
      "460663   Craig   M  11/14/2016  4a0ff5  358bcdcae92ada6adc50\n",
      "733052    Dave   M  03/16/2017  1d744d  aa73fb694f92dc9ef0be\n",
      "377370     Eve   F  04/12/2020  d09ad3  e7ff2beee70ccfdf292d\n",
      "946335   Peggy   F  11/20/2017  581b8d  18eae8b8af97c91306ba\n",
      "145561   Trent   M  07/28/2016  eac16b  6401ce286bb3ee4bab8a\n",
      "865179  Walter   M  07/08/2016  1cb4d7  eac0889219028035b57d\n"
     ]
    }
   ],
   "source": [
    "show_db (server_db)\n",
    "print ()\n",
    "show_db (server_dbs)"
   ]
  },
  {
   "cell_type": "code",
   "execution_count": 361,
   "metadata": {},
   "outputs": [
    {
     "name": "stdout",
     "output_type": "stream",
     "text": [
      "{498382: {'name': 'Alice', 'sex': 'F', 'date_of_reg': '11/30/2019', 'password': '123456789', 'password_hashed': '15e2b0d3c33891ebb0f1', 'salt': 'e059a0', 'salted_hash': '8c418e263d043c3172c5'}, 201414: {'name': 'Bob', 'sex': 'M', 'date_of_reg': '05/15/2018', 'password': 'iloveyou', 'password_hashed': 'e4ad93ca07acb8d908a3', 'salt': 'c5302a', 'salted_hash': '98068e6f42d3ebabbb84'}, 476417: {'name': 'Carol', 'sex': 'F', 'date_of_reg': '11/27/2017', 'password': '123123', 'password_hashed': '96cae35ce8a9b0244178', 'salt': '3deaca', 'salted_hash': '96b9d2ca452b829a125a'}, 988662: {'name': 'Chuck', 'sex': 'M', 'date_of_reg': '07/23/2017', 'password': 'password1', 'password_hashed': '0b14d501a594442a01c6', 'salt': 'bae501', 'salted_hash': '344f376f60a8c650abe5'}, 460663: {'name': 'Craig', 'sex': 'M', 'date_of_reg': '11/14/2016', 'password': 'passw0rd', 'password_hashed': '8f0e2f76e22b43e28551', 'salt': '4a0ff5', 'salted_hash': '358bcdcae92ada6adc50'}, 733052: {'name': 'Dave', 'sex': 'M', 'date_of_reg': '03/16/2017', 'password': 'george', 'password_hashed': '0522a55e2d5f0993a3d6', 'salt': '1d744d', 'salted_hash': 'aa73fb694f92dc9ef0be'}, 377370: {'name': 'Eve', 'sex': 'F', 'date_of_reg': '04/12/2020', 'password': 'solo', 'password_hashed': '5364f2f2fc4f54e9d47a', 'salt': 'd09ad3', 'salted_hash': 'e7ff2beee70ccfdf292d'}, 946335: {'name': 'Peggy', 'sex': 'F', 'date_of_reg': '11/20/2017', 'password': 'nomeet', 'password_hashed': 'd41afde1440169ee4604', 'salt': '581b8d', 'salted_hash': '18eae8b8af97c91306ba'}, 145561: {'name': 'Trent', 'sex': 'M', 'date_of_reg': '07/28/2016', 'password': 'lovert', 'password_hashed': '6270fb703047c4d15c21', 'salt': 'eac16b', 'salted_hash': '6401ce286bb3ee4bab8a'}, 865179: {'name': 'Walter', 'sex': 'M', 'date_of_reg': '07/08/2016', 'password': 'miptisthebest2020', 'password_hashed': '7bc74e986efbed620736', 'salt': '1cb4d7', 'salted_hash': 'eac0889219028035b57d'}}\n"
     ]
    }
   ],
   "source": []
  },
  {
   "cell_type": "code",
   "execution_count": null,
   "metadata": {},
   "outputs": [],
   "source": []
  }
 ],
 "metadata": {
  "colab": {
   "name": "Проект по ЗИ.ipynb",
   "provenance": []
  },
  "kernelspec": {
   "display_name": "Python 3",
   "language": "python",
   "name": "python3"
  },
  "language_info": {
   "codemirror_mode": {
    "name": "ipython",
    "version": 3
   },
   "file_extension": ".py",
   "mimetype": "text/x-python",
   "name": "python",
   "nbconvert_exporter": "python",
   "pygments_lexer": "ipython3",
   "version": "3.7.2"
  }
 },
 "nbformat": 4,
 "nbformat_minor": 1
}
