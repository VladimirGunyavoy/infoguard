{
  "nbformat": 4,
  "nbformat_minor": 0,
  "metadata": {
    "colab": {
      "name": "Проект по ЗИ.ipynb",
      "provenance": []
    },
    "kernelspec": {
      "name": "python3",
      "display_name": "Python 3"
    }
  },
  "cells": [
    {
      "cell_type": "code",
      "metadata": {
        "id": "zWoTkUzXZ7WC"
      },
      "source": [
        "import datetime\r\n",
        "import random\r\n",
        "import pandas as pd\r\n",
        "import requests\r\n",
        "import hashlib\r\n",
        "import json"
      ],
      "execution_count": 1,
      "outputs": []
    },
    {
      "cell_type": "code",
      "metadata": {
        "id": "OGSC2R-flk19"
      },
      "source": [
        "random.seed(42)"
      ],
      "execution_count": 2,
      "outputs": []
    },
    {
      "cell_type": "code",
      "metadata": {
        "id": "TU9VW04_bEH7"
      },
      "source": [
        "def generate_date():\r\n",
        "  start_date = datetime.date(2016, 1, 1)\r\n",
        "  end_date = datetime.date(2020, 12, 17)\r\n",
        "  time_between_dates = end_date - start_date\r\n",
        "  days_between_dates = time_between_dates.days\r\n",
        "  random_number_of_days = random.randrange(days_between_dates)\r\n",
        "  random_date = start_date + datetime.timedelta(days=random_number_of_days)\r\n",
        "  return random_date.strftime(\"%m/%d/%Y\")"
      ],
      "execution_count": 3,
      "outputs": []
    },
    {
      "cell_type": "code",
      "metadata": {
        "id": "TsDo2upqbRnB"
      },
      "source": [
        "list_of_names = ['Alice', 'Bob', 'Carol', 'Chuck', 'Craig', 'Dave', 'Eve', 'Peggy', 'Trent', 'Walter']"
      ],
      "execution_count": 4,
      "outputs": []
    },
    {
      "cell_type": "code",
      "metadata": {
        "id": "9o1R2srDbnNx"
      },
      "source": [
        "list_of_genders = ['F', 'M', 'F', 'M', 'M', 'M', 'F', 'F', 'M', 'M']"
      ],
      "execution_count": 5,
      "outputs": []
    },
    {
      "cell_type": "code",
      "metadata": {
        "id": "UtjgoR9JcJxm"
      },
      "source": [
        "list_of_dates = []\r\n",
        "for i in range(10):\r\n",
        "  list_of_dates.append(generate_date())"
      ],
      "execution_count": 6,
      "outputs": []
    },
    {
      "cell_type": "code",
      "metadata": {
        "id": "AojCyn1rdawQ"
      },
      "source": [
        "list_of_ids = []\r\n",
        "for i in range(10):\r\n",
        "  list_of_ids.append(random.randint(100000, 999999))"
      ],
      "execution_count": 7,
      "outputs": []
    },
    {
      "cell_type": "code",
      "metadata": {
        "id": "NayzzkONfkCO"
      },
      "source": [
        "url = \"https://www.ianoffers.com/top-100-passwords-of-2018/\"\r\n",
        "\r\n",
        "r = requests.get(url)\r\n",
        "df_list = pd.read_html(r.text)\r\n",
        "df = df_list[0]"
      ],
      "execution_count": 8,
      "outputs": []
    },
    {
      "cell_type": "code",
      "metadata": {
        "id": "LD_tqBXKg15z"
      },
      "source": [
        "list_of_passwords = df[1]"
      ],
      "execution_count": 9,
      "outputs": []
    },
    {
      "cell_type": "code",
      "metadata": {
        "id": "ht0jyCsYhXN8"
      },
      "source": [
        "passwords = []\r\n",
        "for i in range(7):\r\n",
        "  passwords.append(list_of_passwords[i*7 + 2])\r\n",
        "passwords.append('nomeet')\r\n",
        "passwords.append('lovert')\r\n",
        "passwords.append('miptisthebest2020')"
      ],
      "execution_count": 10,
      "outputs": []
    },
    {
      "cell_type": "code",
      "metadata": {
        "colab": {
          "base_uri": "https://localhost:8080/"
        },
        "id": "DOluxBRGmdp1",
        "outputId": "92b94916-008e-4b41-8ef0-016a9cfdaad2"
      },
      "source": [
        "print(passwords)"
      ],
      "execution_count": 11,
      "outputs": [
        {
          "output_type": "stream",
          "text": [
            "['123456789', 'iloveyou', '123123', 'password1', 'passw0rd', 'george', 'solo', 'nomeet', 'lovert', 'miptisthebest2020']\n"
          ],
          "name": "stdout"
        }
      ]
    },
    {
      "cell_type": "code",
      "metadata": {
        "id": "QpZtHqf0mhYN"
      },
      "source": [
        "passwords_hashed = []\r\n",
        "for i in range(10):\r\n",
        "  hs = hashlib.sha256(passwords[i].encode()).hexdigest()\r\n",
        "  passwords_hashed.append(hs)"
      ],
      "execution_count": 12,
      "outputs": []
    },
    {
      "cell_type": "code",
      "metadata": {
        "id": "28nBOAEUhZNO"
      },
      "source": [
        "def create_dict(list_of_ids, list_of_names, list_of_genders, list_of_dates, passwords_hashed):\r\n",
        "  database = {}\r\n",
        "  for i in range(10):\r\n",
        "    user = {}\r\n",
        "    user['name'] = list_of_names[i]\r\n",
        "    user['sex'] = list_of_genders[i]\r\n",
        "    user['date_of_registration'] = list_of_dates[i]\r\n",
        "    user['password_hashed'] = passwords_hashed[i]\r\n",
        "    database[list_of_ids[i]] = user\r\n",
        "  return database"
      ],
      "execution_count": 13,
      "outputs": []
    },
    {
      "cell_type": "code",
      "metadata": {
        "id": "NBdYcUA2mD5h"
      },
      "source": [
        "db = create_dict(list_of_ids, list_of_names, list_of_genders, list_of_dates, passwords_hashed)"
      ],
      "execution_count": 14,
      "outputs": []
    },
    {
      "cell_type": "code",
      "metadata": {
        "colab": {
          "base_uri": "https://localhost:8080/"
        },
        "id": "NwxGj6BbnX_i",
        "outputId": "8a4a1741-360f-4101-d98e-e75a49f27122"
      },
      "source": [
        "print(db)"
      ],
      "execution_count": 15,
      "outputs": [
        {
          "output_type": "stream",
          "text": [
            "{809570: {'name': 'Alice', 'sex': 'F', 'date_of_registration': '08/02/2019', 'password_hashed': '15e2b0d3c33891ebb0f1ef609ec419420c20e320ce94c65fbc8c3312448eb225'}, 876646: {'name': 'Bob', 'sex': 'M', 'date_of_registration': '08/16/2016', 'password_hashed': 'e4ad93ca07acb8d908a3aa41e920ea4f4ef4f26e7f86cf8291c5db289780a5ae'}, 671858: {'name': 'Carol', 'sex': 'F', 'date_of_registration': '02/21/2016', 'password_hashed': '96cae35ce8a9b0244178bf28e4966c2ce1b8385723a96a6b838858cdd6ca0a1e'}, 191161: {'name': 'Chuck', 'sex': 'M', 'date_of_registration': '02/27/2020', 'password_hashed': '0b14d501a594442a01c6859541bcb3e8164d183d32937b851835442f69d5c94e'}, 719176: {'name': 'Craig', 'sex': 'M', 'date_of_registration': '07/17/2017', 'password_hashed': '8f0e2f76e22b43e2855189877e7dc1e1e7d98c226c95db247cd1d547928334a9'}, 542417: {'name': 'Dave', 'sex': 'M', 'date_of_registration': '05/16/2017', 'password_hashed': '0522a55e2d5f0993a3d66d28864b2862a7218a75ea7968b075333434404485c3'}, 133326: {'name': 'Eve', 'sex': 'F', 'date_of_registration': '04/02/2017', 'password_hashed': '5364f2f2fc4f54e9d47ad29cfb08ef430c8153394bf2a0dff5cbe77a0ffef861'}, 131244: {'name': 'Peggy', 'sex': 'F', 'date_of_registration': '10/12/2016', 'password_hashed': 'd41afde1440169ee46047c1417ce2e5a23e065b457130838b47aaaddb5d6158f'}, 198246: {'name': 'Trent', 'sex': 'M', 'date_of_registration': '02/17/2020', 'password_hashed': '6270fb703047c4d15c2176dde2a6796e5ab7f37df3ba0ab39f9a627b4caa90ad'}, 329258: {'name': 'Walter', 'sex': 'M', 'date_of_registration': '07/28/2016', 'password_hashed': '7bc74e986efbed6207361ad08e93c086891383201a102ad35b4bad5947667a8d'}}\n"
          ],
          "name": "stdout"
        }
      ]
    },
    {
      "cell_type": "code",
      "metadata": {
        "id": "qEwLQjfXncQK"
      },
      "source": [
        "def show_db(db):\r\n",
        "  pd.set_option('display.max_columns', 5)\r\n",
        "  pd.set_option('display.width', 1500)\r\n",
        "  s = pd.DataFrame.from_dict(db, orient='index')\r\n",
        "  print(s)"
      ],
      "execution_count": 16,
      "outputs": []
    },
    {
      "cell_type": "code",
      "metadata": {
        "colab": {
          "base_uri": "https://localhost:8080/"
        },
        "id": "PFU6NoiontXG",
        "outputId": "887038a6-837a-4ffa-e74e-cac5ce2ce4ff"
      },
      "source": [
        "show_db(db)"
      ],
      "execution_count": 17,
      "outputs": [
        {
          "output_type": "stream",
          "text": [
            "          name sex date_of_registration                                    password_hashed\n",
            "809570   Alice   F           08/02/2019  15e2b0d3c33891ebb0f1ef609ec419420c20e320ce94c6...\n",
            "876646     Bob   M           08/16/2016  e4ad93ca07acb8d908a3aa41e920ea4f4ef4f26e7f86cf...\n",
            "671858   Carol   F           02/21/2016  96cae35ce8a9b0244178bf28e4966c2ce1b8385723a96a...\n",
            "191161   Chuck   M           02/27/2020  0b14d501a594442a01c6859541bcb3e8164d183d32937b...\n",
            "719176   Craig   M           07/17/2017  8f0e2f76e22b43e2855189877e7dc1e1e7d98c226c95db...\n",
            "542417    Dave   M           05/16/2017  0522a55e2d5f0993a3d66d28864b2862a7218a75ea7968...\n",
            "133326     Eve   F           04/02/2017  5364f2f2fc4f54e9d47ad29cfb08ef430c8153394bf2a0...\n",
            "131244   Peggy   F           10/12/2016  d41afde1440169ee46047c1417ce2e5a23e065b4571308...\n",
            "198246   Trent   M           02/17/2020  6270fb703047c4d15c2176dde2a6796e5ab7f37df3ba0a...\n",
            "329258  Walter   M           07/28/2016  7bc74e986efbed6207361ad08e93c086891383201a102a...\n"
          ],
          "name": "stdout"
        }
      ]
    },
    {
      "cell_type": "code",
      "metadata": {
        "id": "GAX-mB_fnynS"
      },
      "source": [
        "with open(\"database.json\", \"w\") as outfile:  \r\n",
        "    json.dump(db, outfile) "
      ],
      "execution_count": 18,
      "outputs": []
    },
    {
      "cell_type": "code",
      "metadata": {
        "id": "sCd6_HOfqR6V"
      },
      "source": [
        ""
      ],
      "execution_count": null,
      "outputs": []
    }
  ]
}